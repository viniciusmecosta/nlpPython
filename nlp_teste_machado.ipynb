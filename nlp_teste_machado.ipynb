{
 "cells": [
  {
   "cell_type": "code",
   "execution_count": 61,
   "id": "2e660434",
   "metadata": {},
   "outputs": [
    {
     "name": "stderr",
     "output_type": "stream",
     "text": [
      "[nltk_data] Downloading package machado to /home/vini/nltk_data...\n",
      "[nltk_data]   Package machado is already up-to-date!\n"
     ]
    },
    {
     "data": {
      "text/plain": [
       "True"
      ]
     },
     "execution_count": 61,
     "metadata": {},
     "output_type": "execute_result"
    }
   ],
   "source": [
    "import nltk\n",
    "import nltk.corpus  \n",
    "import nltk.collections\n",
    "import nltk.text \n",
    "import matplotlib.pyplot as plt\n",
    "import nltk\n",
    "import re\n",
    "from nltk.probability import FreqDist\n",
    "from nltk.tokenize import word_tokenize\n",
    "from nltk.draw.dispersion import dispersion_plot\n",
    "nltk.download('machado')"
   ]
  },
  {
   "cell_type": "code",
   "execution_count": 62,
   "id": "55b1d75d",
   "metadata": {},
   "outputs": [
    {
     "name": "stdout",
     "output_type": "stream",
     "text": [
      "Machado de Assis -- Obra Completa\n",
      "\n",
      "http://machado.mec.gov.br/\n",
      "\n",
      "Public Domain\n",
      "\n",
      "Contents:\n",
      "\n",
      "Romance\n",
      "\n",
      "romance/marm01.txt: Ressurreição (1872)\n",
      "romance/marm02.txt: A Mão e a Luva (1874)\n",
      "romance/marm03.txt: Helena (1876)\n",
      "romance/marm04.txt: Iaiá Garcia (1878)\n",
      "romance/marm05.txt: Memórias Póstumas de Brás Cubas (1881)\n",
      "romance/marm06.txt: Casa Velha (1885)\n",
      "romance/marm07.txt: Quincas Borba (1891)\n",
      "romance/marm08.txt: Dom Casmurro (1899)\n",
      "romance/marm09.txt: Esaú e Jacó (1904)\n",
      "romance/marm10.txt: Memorial de Aires (1908)\n",
      "\n",
      "Poesia\n",
      "\n",
      "poesia/maps01.txt: Crisálidas (1864)\n",
      "poesia/maps02.txt: Falenas (1870)\n",
      "poesia/maps03.txt: Americanas (1875)\n",
      "poesia/maps04.txt: Gazeta de Holanda (1886-88)\n",
      "poesia/maps05.txt: Ocidentais (1901)\n",
      "poesia/maps06.txt: O Almada (1908)\n",
      "poesia/maps07.txt: Dispersas (1854-1939)\n",
      "\n",
      "Contos\n",
      "\n",
      "contos/macn001.txt: Contos Fluminenses (1870); Miss Dollar; Luís Soares; A mulher de preto; O segredo de Augusta; Confissões de uma viúva moça; Linha reta e linha curva; Frei Sim\n",
      "contos/macn002.txt: Histórias da meia-noite (1873); A parasita azul; As bodas de Luís Duarte; Ernesto de Tal; Aurora sem dia; O relógio de ouro; Ponto de vista\n",
      "contos/macn003.txt: Papéis avulsos (1882); O alienista; Teoria do medalhão; A chinela turca; Na arca; D. Benedita; O segredo do bonzo; O anel de Polícrates; O empréstimo; A sereníssima república; O espelho; Uma visita de Alcibíades; Verba testamentária\n",
      "contos/macn004.txt: Histórias sem data (1884); A igreja do Diabo; O lapso; Último capítulo; Cantiga de esponsais; Singular ocorrência; Galeria póstuma; Capítulo dos chapéus; Conto alexandrino; Rimas de Sapucaia!; Uma senhora; Anedota pecuniária; Fulano; A segunda vida; Noite de almirante; Manuscrito de um sacristão; Ex cathedra; A senhora do Galvão; As academias de Sião\n",
      "contos/macn005.txt: Várias histórias (1896); A cartomante; Entre santos; Uns braços; Um homem célebre; A desejada das gentes; A causa secreta; Trio em lá menor; Adão e Eva; O enfermeiro; O diplomático; Mariana; Conto de escola; Um apólogo; D. Paula; Viver!; O cônego ou Metafísica do estilo\n",
      "contos/macn006.txt: Páginas recolhidas (1899); O caso da vara; O dicionário; Um erradio; Eterno!; Missa do galo; Idéias de canário; Lágrimas de Xerxes; Papéis velhos\n",
      "contos/macn007.txt: Relíquias de Casa Velha (1906); Pai contra mãe; Maria Cora; Marcha fúnebre; Um capitão de voluntários; Suje-se gordo!; Umas férias; Evolução; Pílades e Orestes; Anedota do cabriolet\n",
      "\n",
      "Traducao\n",
      "\n",
      "traducao/matr01.txt: Suplício de uma mulher (1865)\n",
      "traducao/matr02.txt: Os trabalhadores do mar (1866)\n",
      "traducao/matr03.txt: Oliver Twist (1870)\n",
      "\n",
      "Teatro\n",
      "\n",
      "teatro/matt01.txt: As forcas caudinas (1956)\n",
      "teatro/matt02.txt: Hoje avental, amanhã luva (1860)\n",
      "teatro/matt03.txt: Desencantos (1861)\n",
      "teatro/matt04.txt: O caminho da porta / O protocolo (1863)\n",
      "teatro/matt05.txt: Quase ministro (1864)\n",
      "teatro/matt06.txt: Os deuses de casaca (1866)\n",
      "teatro/matt07.txt: O bote de rapé (1878)\n",
      "teatro/matt08.txt: Tu, só tu, puro amor (1880)\n",
      "teatro/matt09.txt: Não consultes médico (1899)\n",
      "teatro/matt10.txt: Lição de botânica (1906)\n",
      "\n",
      "Cronica\n",
      "\n",
      "cronica/macr01.txt: Comentários da semana (1861-1863)\n",
      "cronica/macr02.txt: Crônicas do Dr. Semana (1861-1864)\n",
      "cronica/macr03.txt: Crônicas - O futuro (1862-1863)\n",
      "cronica/macr04.txt: Ao acaso (1864-1865)\n",
      "cronica/macr05.txt: Cartas fluminenses (1867)\n",
      "cronica/macr06.txt: Badaladas (1871-1873)\n",
      "cronica/macr07.txt: História de quinze dias (1876-1877)\n",
      "cronica/macr08.txt: História dos trinta dias (1878)\n",
      "cronica/macr09.txt: Notas semanais (1878)\n",
      "cronica/macr10.txt: Balas de estalo (1883-1886)\n",
      "cronica/macr11.txt: Bons dias! (1888-1889)\n",
      "cronica/macr12.txt: A semana (1892-1800)\n",
      "cronica/macr13.txt: O jornal e o livro (1859)\n",
      "cronica/macr14.txt: A reforma pelo jornal (1859)\n",
      "cronica/macr15.txt: Aquarelas (1859)\n",
      "cronica/macr16.txt: O Visconde de Castilho (1875)\n",
      "cronica/macr17.txt: Cherchez la femme (1881)\n",
      "cronica/macr18.txt: José de Alencar (1883)\n",
      "cronica/macr19.txt: Joaquim Serra (1888)\n",
      "cronica/macr20.txt: O futuro dos argentinos (1888)\n",
      "cronica/macr21.txt: Entre 1892 e 1894 (1892-1894)\n",
      "cronica/macr22.txt: Henrique Chaves (1893)\n",
      "cronica/macr23.txt: Henrique Lombaerts (1897)\n",
      "cronica/macr24.txt: O velho Senado (1898)\n",
      "critica/mact01.txt: O Passado, o presente e o futuro da literatura (1858)\n",
      "critica/mact02.txt: Idéias sobre o teatro (1859)\n",
      "critica/mact03.txt: Revista dos teatros (1859)\n",
      "critica/mact04.txt: Revista Dramática (1860)\n",
      "critica/mact05.txt: A Crítica teatral. José de Alencar: Mãe (1860)\n",
      "critica/mact06.txt: Crítica variada - Diário do RJ (1862)\n",
      "critica/mact07.txt: Flores e Frutos, de Bruno Seabra (1862)\n",
      "critica/mact08.txt: Pareceres - Conservatório Dramático (1862-1864)\n",
      "critica/mact09.txt: Homem de Mello e B. Pinheiro  A Constituinte perante a História e Sombras e Luz (1863)\n",
      "critica/mact10.txt: Peregrinação pela província de S. Paulo , por A. E. Zaluar (1863)\n",
      "critica/mact11.txt: Revelações , de A. E. Zaluar (1863)\n",
      "critica/mact12.txt: Dois folhetins. Suplício de uma mulher (1865)\n",
      "critica/mact13.txt: O Ideal do crítico (1865)\n",
      "critica/mact14.txt: Álvares de Azevedo: Lira dos vinte anos (1866)\n",
      "critica/mact15.txt: Crítica teatral (1866)\n",
      "critica/mact16.txt: Fagundes Varela  Cantos e fantasias (1866)\n",
      "critica/mact17.txt: J .M. de Macedo: O culto do dever (1866)\n",
      "critica/mact18.txt: José de Alencar: Iracema (1866)\n",
      "critica/mact19.txt: Junqueira Freire: Inspirações do claustro (1866)\n",
      "critica/mact20.txt: Porto Alegre: Colombo (1866)\n",
      "critica/mact21.txt: Propósito (1866)\n",
      "critica/mact22.txt: Castro Alves (1868)\n",
      "critica/mact23.txt: Lúcio de Mendonça: Névoas matutinas (1872)\n",
      "critica/mact24.txt: Un cuento endemoniado e La mujer misteriosa , de Guilherme Malta (1872)\n",
      "critica/mact25.txt: Notícia da atual literatura brasileira: Instinto de nacionalidade (1873)\n",
      "critica/mact26.txt: Fagundes Varela (1875)\n",
      "critica/mact27.txt: Eça de Queirós: O primo Basílio (1878)\n",
      "critica/mact28.txt: Francisco de Castro: Harmonias errantes (1878)\n",
      "critica/mact29.txt: A Nova geração (1879)\n",
      "critica/mact30.txt: Carlos Jansen: Contos seletos das mil e uma noites (1882)\n",
      "critica/mact31.txt: Raimundo Correia: Sinfonias (1882)\n",
      "critica/mact32.txt: Alberto de Oliveira: Meridionais (1884)\n",
      "critica/mact33.txt: Enéias Galvão: Miragens (1885)\n",
      "critica/mact34.txt: L. L. Fernandes Pinheiro Júnior: Tipos e quadros (1886)\n",
      "critica/mact35.txt: José de Alencar: O Guarani (1887)\n",
      "critica/mact36.txt: Henriqueta Renan (1896)\n",
      "critica/mact37.txt: Discursos na Academia Brasileira de Letras (1897)\n",
      "critica/mact38.txt: Magalhães de Azeredo: Procelárias (1898)\n",
      "critica/mact39.txt: Cenas da vida amazônica , de José Veríssimo (1899)\n",
      "critica/mact40.txt: Garrett (1899)\n",
      "critica/mact41.txt: Eça de Queirós (1900)\n",
      "critica/mact42.txt: Eduardo Prado (1901)\n",
      "critica/mact43.txt: Magalhães de Azeredo e Mário de Alencar: Horas sagradas e Versos (1902)\n",
      "critica/mact44.txt: Oliveira Lima: Secretário d'el-rei (1904)\n",
      "critica/mact45.txt: Joaquim Nabuco: Pensées détachées et souvenirs (1906)\n",
      "\n",
      "Miscelanea\n",
      "\n",
      "miscelanea/mams01.txt: Os imortais (1859)\n",
      "miscelanea/mams02.txt: Queda que as mulheres têm para os tolos (1861)\n",
      "miscelanea/mams03.txt: Carta ao Sr. Bispo do RJ (1862)\n",
      "miscelanea/mams04.txt: Carta à redação da Imprensa Acadêmica (1864)\n",
      "miscelanea/mams05.txt: Pedro Luís (1884)\n",
      "miscelanea/mams06.txt: A morte de Francisco Otaviano (1889)\n",
      "miscelanea/mams07.txt: Secretaria de Agricultura (1890)\n",
      "miscelanea/mams08.txt: A Paixão de Jesus (1904)\n",
      "miscelanea/mams09.txt: Gonçalves Dias (1906)\n",
      "miscelanea/mams10.txt: A Estátua de José de Alencar (1906)\n",
      "\n",
      "['contos/macn001.txt', 'contos/macn002.txt', 'contos/macn003.txt', 'contos/macn004.txt', 'contos/macn005.txt', 'contos/macn006.txt', 'contos/macn007.txt', 'contos/macn008.txt', 'contos/macn009.txt', 'contos/macn010.txt', 'contos/macn011.txt', 'contos/macn012.txt', 'contos/macn013.txt', 'contos/macn014.txt', 'contos/macn015.txt', 'contos/macn016.txt', 'contos/macn017.txt', 'contos/macn018.txt', 'contos/macn019.txt', 'contos/macn020.txt', 'contos/macn021.txt', 'contos/macn022.txt', 'contos/macn023.txt', 'contos/macn024.txt', 'contos/macn025.txt', 'contos/macn026.txt', 'contos/macn027.txt', 'contos/macn028.txt', 'contos/macn029.txt', 'contos/macn030.txt', 'contos/macn031.txt', 'contos/macn032.txt', 'contos/macn033.txt', 'contos/macn034.txt', 'contos/macn035.txt', 'contos/macn036.txt', 'contos/macn037.txt', 'contos/macn038.txt', 'contos/macn039.txt', 'contos/macn040.txt', 'contos/macn041.txt', 'contos/macn042.txt', 'contos/macn043.txt', 'contos/macn044.txt', 'contos/macn045.txt', 'contos/macn046.txt', 'contos/macn047.txt', 'contos/macn048.txt', 'contos/macn049.txt', 'contos/macn050.txt', 'contos/macn051.txt', 'contos/macn052.txt', 'contos/macn053.txt', 'contos/macn054.txt', 'contos/macn055.txt', 'contos/macn056.txt', 'contos/macn057.txt', 'contos/macn058.txt', 'contos/macn059.txt', 'contos/macn060.txt', 'contos/macn061.txt', 'contos/macn062.txt', 'contos/macn063.txt', 'contos/macn064.txt', 'contos/macn065.txt', 'contos/macn066.txt', 'contos/macn067.txt', 'contos/macn068.txt', 'contos/macn069.txt', 'contos/macn070.txt', 'contos/macn071.txt', 'contos/macn072.txt', 'contos/macn073.txt', 'contos/macn074.txt', 'contos/macn075.txt', 'contos/macn076.txt', 'contos/macn077.txt', 'contos/macn078.txt', 'contos/macn079.txt', 'contos/macn080.txt', 'contos/macn081.txt', 'contos/macn082.txt', 'contos/macn083.txt', 'contos/macn084.txt', 'contos/macn085.txt', 'contos/macn086.txt', 'contos/macn087.txt', 'contos/macn088.txt', 'contos/macn089.txt', 'contos/macn090.txt', 'contos/macn091.txt', 'contos/macn092.txt', 'contos/macn093.txt', 'contos/macn094.txt', 'contos/macn095.txt', 'contos/macn096.txt', 'contos/macn097.txt', 'contos/macn098.txt', 'contos/macn099.txt', 'contos/macn100.txt', 'contos/macn101.txt', 'contos/macn102.txt', 'contos/macn103.txt', 'contos/macn104.txt', 'contos/macn105.txt', 'contos/macn106.txt', 'contos/macn107.txt', 'contos/macn108.txt', 'contos/macn109.txt', 'contos/macn110.txt', 'contos/macn111.txt', 'contos/macn112.txt', 'contos/macn113.txt', 'contos/macn114.txt', 'contos/macn115.txt', 'contos/macn116.txt', 'contos/macn117.txt', 'contos/macn118.txt', 'contos/macn119.txt', 'contos/macn120.txt', 'contos/macn121.txt', 'contos/macn122.txt', 'contos/macn123.txt', 'contos/macn124.txt', 'contos/macn125.txt', 'contos/macn126.txt', 'contos/macn127.txt', 'contos/macn128.txt', 'contos/macn129.txt', 'contos/macn130.txt', 'contos/macn131.txt', 'contos/macn132.txt', 'contos/macn133.txt', 'contos/macn134.txt', 'contos/macn135.txt', 'contos/macn136.txt', 'contos/macn137.txt', 'critica/mact01.txt', 'critica/mact02.txt', 'critica/mact03.txt', 'critica/mact04.txt', 'critica/mact05.txt', 'critica/mact06.txt', 'critica/mact07.txt', 'critica/mact08.txt', 'critica/mact09.txt', 'critica/mact10.txt', 'critica/mact11.txt', 'critica/mact12.txt', 'critica/mact13.txt', 'critica/mact14.txt', 'critica/mact15.txt', 'critica/mact16.txt', 'critica/mact17.txt', 'critica/mact18.txt', 'critica/mact19.txt', 'critica/mact20.txt', 'critica/mact21.txt', 'critica/mact22.txt', 'critica/mact23.txt', 'critica/mact24.txt', 'critica/mact25.txt', 'critica/mact26.txt', 'critica/mact27.txt', 'critica/mact28.txt', 'critica/mact29.txt', 'critica/mact30.txt', 'critica/mact31.txt', 'critica/mact32.txt', 'critica/mact33.txt', 'critica/mact34.txt', 'critica/mact35.txt', 'critica/mact36.txt', 'critica/mact37.txt', 'critica/mact38.txt', 'critica/mact39.txt', 'critica/mact40.txt', 'critica/mact41.txt', 'critica/mact42.txt', 'critica/mact43.txt', 'critica/mact44.txt', 'critica/mact45.txt', 'cronica/macr01.txt', 'cronica/macr02.txt', 'cronica/macr03.txt', 'cronica/macr04.txt', 'cronica/macr05.txt', 'cronica/macr06.txt', 'cronica/macr07.txt', 'cronica/macr08.txt', 'cronica/macr09.txt', 'cronica/macr10.txt', 'cronica/macr11.txt', 'cronica/macr12.txt', 'cronica/macr13.txt', 'cronica/macr14.txt', 'cronica/macr15.txt', 'cronica/macr16.txt', 'cronica/macr17.txt', 'cronica/macr18.txt', 'cronica/macr19.txt', 'cronica/macr20.txt', 'cronica/macr21.txt', 'cronica/macr22.txt', 'cronica/macr23.txt', 'cronica/macr24.txt', 'miscelanea/mams01.txt', 'miscelanea/mams02.txt', 'miscelanea/mams03.txt', 'miscelanea/mams04.txt', 'miscelanea/mams05.txt', 'miscelanea/mams06.txt', 'miscelanea/mams07.txt', 'miscelanea/mams08.txt', 'miscelanea/mams09.txt', 'miscelanea/mams10.txt', 'poesia/maps01.txt', 'poesia/maps02.txt', 'poesia/maps03.txt', 'poesia/maps04.txt', 'poesia/maps05.txt', 'poesia/maps06.txt', 'poesia/maps07.txt', 'romance/marm01.txt', 'romance/marm02.txt', 'romance/marm03.txt', 'romance/marm04.txt', 'romance/marm05.txt', 'romance/marm06.txt', 'romance/marm07.txt', 'romance/marm08.txt', 'romance/marm09.txt', 'romance/marm10.txt', 'teatro/matt01.txt', 'teatro/matt02.txt', 'teatro/matt03.txt', 'teatro/matt04.txt', 'teatro/matt05.txt', 'teatro/matt06.txt', 'teatro/matt07.txt', 'teatro/matt08.txt', 'teatro/matt09.txt', 'teatro/matt10.txt', 'traducao/matr01.txt', 'traducao/matr02.txt', 'traducao/matr03.txt']\n"
     ]
    },
    {
     "name": "stderr",
     "output_type": "stream",
     "text": [
      "[nltk_data] Downloading package machado to /home/vini/nltk_data...\n",
      "[nltk_data]   Package machado is already up-to-date!\n"
     ]
    }
   ],
   "source": [
    "# no nosso caso estamos usando id machado\n",
    "nltk_id = 'machado'\n",
    "\n",
    "# eh necessario baixar o corpus\n",
    "nltk.download(nltk_id)\n",
    "\n",
    "# agora o corpus esta acessivel \n",
    "# visualizando as obras disponiveis\n",
    "print(nltk.corpus.machado.readme())\n",
    "# ou\n",
    "print(nltk.corpus.machado.fileids())\n",
    "\n",
    "# apos escolher a obra\n",
    "# salvamos a string em uma variavel\n",
    "dom_casmurro = nltk.corpus.machado.raw('romance/marm05.txt')"
   ]
  },
  {
   "cell_type": "code",
   "execution_count": 63,
   "id": "c160aabe",
   "metadata": {},
   "outputs": [
    {
     "name": "stderr",
     "output_type": "stream",
     "text": [
      "[nltk_data] Downloading package stopwords to /home/vini/nltk_data...\n",
      "[nltk_data]   Package stopwords is already up-to-date!\n"
     ]
    }
   ],
   "source": [
    "nltk.download('stopwords')\n",
    "\n",
    "# retorna lista de stopwords em portugues\n",
    "stopwords = nltk.corpus.stopwords.words('portuguese')"
   ]
  },
  {
   "cell_type": "code",
   "execution_count": 64,
   "id": "6dd4e269",
   "metadata": {},
   "outputs": [],
   "source": [
    "def pre_processamento(texto):\n",
    "  \n",
    "    # seleciona apenas letras e coloca todas em minúsculo \n",
    "    letras_min =  re.findall(r'\\b[A-zÀ-úü]+\\b', texto.lower())\n",
    "\n",
    "    # remove stopwords\n",
    "    stopwords = nltk.corpus.stopwords.words('portuguese')\n",
    "    stop = set(stopwords)\n",
    "    sem_stopwords = [w for w in letras_min if w not in stop]\n",
    "\n",
    "    # juntando os tokens novamente em formato de texto\n",
    "    texto_limpo = \" \".join(sem_stopwords)\n",
    "\n",
    "    return texto_limpo"
   ]
  },
  {
   "cell_type": "code",
   "execution_count": 65,
   "id": "dcf4b63f",
   "metadata": {},
   "outputs": [
    {
     "name": "stdout",
     "output_type": "stream",
     "text": [
      "20 palavras mais frequentes:\n",
      "[('capítulo', 209), ('virgília', 202), ('disse', 187), ('coisa', 148), ('olhos', 138), ('nada', 126), ('outro', 124), ('vida', 118), ('outra', 116), ('tempo', 114), ('porque', 113), ('menos', 112), ('homem', 108), ('casa', 107), ('mim', 100), ('tudo', 99), ('pouco', 98), ('então', 96), ('tão', 95), ('dia', 93)]\n"
     ]
    },
    {
     "data": {
      "image/png": "[encoded data removed]",
      "text/plain": [
       "<Figure size 936x576 with 1 Axes>"
      ]
     },
     "metadata": {
      "needs_background": "light"
     },
     "output_type": "display_data"
    },
    {
     "data": {
      "text/plain": [
       "<AxesSubplot:title={'center':'Frequência de Palavras'}, xlabel='Samples', ylabel='Counts'>"
      ]
     },
     "execution_count": 65,
     "metadata": {},
     "output_type": "execute_result"
    }
   ],
   "source": [
    "texto = pre_processamento(dom_casmurro)\n",
    "\n",
    "# tokenizando \n",
    "tokens = word_tokenize(texto)\n",
    "\n",
    "# contagem de frequencia\n",
    "fd = FreqDist(tokens)\n",
    "print(\"20 palavras mais frequentes:\")\n",
    "print(fd.most_common(20))\n",
    "\n",
    "# plot\n",
    "plt.figure(figsize = (13, 8))\n",
    "fd.plot(30, title = \"Frequência de Palavras\")"
   ]
  },
  {
   "cell_type": "code",
   "execution_count": 66,
   "id": "c051eecd",
   "metadata": {},
   "outputs": [
    {
     "name": "stdout",
     "output_type": "stream",
     "text": [
      "Displaying 25 of 209 matches:\n",
      "dar pago piparote adeus brás cubas capítulo primeiro óbito autor algum tempo h\n",
      " expor sumariamente caso julgue si capítulo ii emplasto efeito dia manhã estan\n",
      "itor militar cônego volto emplasto capítulo iii genealogia falei dois tios dei\n",
      "mos sucessos acabemos vez emplasto capítulo iv idéia fixa idéia tantas cabriol\n",
      "z graúda castelã comparação presta capítulo v aparece orelha senhora senão est\n",
      "sa contemporâneas anônima primeiro capítulo tal cuja imaginação semelhança ceg\n",
      " enfermo vejo assomar porta alcova capítulo vi chimène qui l dit rodrigue qui \n",
      "on nascido gavião delírio começava capítulo vii delírio conste ainda ninguém r\n",
      "stes fenômenos mentais pode saltar capítulo vá direito narração menos curioso \n",
      "o brincava porta alcova bola papel capítulo viii razão contra sandice leitor c\n",
      " deitou língua ar surriada andando capítulo ix transição vejam agora destreza \n",
      " engomada chocha vamos dia outubro capítulo x naquele dia naquele dia árvore c\n",
      "s bênçãos porque contasse acabaria capítulo preciso acabá lo item posso dizer \n",
      "velmente mal andava fiquei andando capítulo xi menino pai homem cresci nisso f\n",
      "sa terra desse estrume nasceu flor capítulo xii episódio quero passar adiante \n",
      " nariz rir ah brejeiro ah brejeiro capítulo xiii salto unamos agora pés demos \n",
      "olítica primeiro cativeiro pessoal capítulo xiv primeiro beijo dezessete anos \n",
      " escadas veloz tufão incerto ébrio capítulo xv marcela gastei trinta dias ir r\n",
      " renda brincos obediência encantar capítulo xvi reflexão imoral ocorre reflexã\n",
      "l tempo correção estilo cuido dito capítulo xiv marcela morria amores xavier m\n",
      "la exemplo bem bonita marcela amou capítulo xvii trapézio outras coisas marcel\n",
      " salvadora trabalhou nele emplasto capítulo ii nada menos fasciná la fasciná l\n",
      "uardar jóia enquanto descia escada capítulo xviii visão corredor fim escada fu\n",
      "ulho oceano repetindo nome marcela capítulo xix bordo onze passageiros homem d\n",
      "apertou mão predisse grande futuro capítulo xx bacharelo grande futuro enquant\n",
      "None\n"
     ]
    }
   ],
   "source": [
    "dom_casmurro_tok = nltk.Text(word_tokenize(pre_processamento(dom_casmurro)))\n",
    "print(dom_casmurro_tok.concordance('capítulo'))"
   ]
  },
  {
   "cell_type": "code",
   "execution_count": 67,
   "id": "4711e65a",
   "metadata": {},
   "outputs": [
    {
     "name": "stdout",
     "output_type": "stream",
     "text": [
      "lá alcova disse medo quê superficial contrário\n"
     ]
    }
   ],
   "source": [
    "dom_casmurro_tok.similar(\"virgília\")"
   ]
  },
  {
   "cell_type": "code",
   "execution_count": 68,
   "id": "0b953720",
   "metadata": {},
   "outputs": [
    {
     "name": "stdout",
     "output_type": "stream",
     "text": [
      "quincas borba; lobo neves; brás cubas; alguma coisa; nhã loló; dia\n",
      "seguinte; outra vez; alguns instantes; cinco contos; rio janeiro;\n",
      "outra coisa; coisa nenhuma; mesma coisa; muitas vezes; primeiros dias;\n",
      "nesta página; meia dobra; idéia fixa; alma sensível; ponta nariz\n"
     ]
    }
   ],
   "source": [
    "dom_casmurro_tok.collocations()"
   ]
  },
  {
   "cell_type": "code",
   "execution_count": 69,
   "id": "a35c2da0",
   "metadata": {},
   "outputs": [
    {
     "data": {
      "image/png": "[encoded data removed]",
      "text/plain": [
       "<Figure size 432x288 with 1 Axes>"
      ]
     },
     "metadata": {
      "needs_background": "light"
     },
     "output_type": "display_data"
    }
   ],
   "source": [
    "targets=['capítulo', 'disse', 'coisa', 'olhos', 'nada', 'outro', 'vida', 'outra']\n",
    "my_plot = dispersion_plot(dom_casmurro_tok, targets, ignore_case=True)\n",
    "if [label.get_text() for label in my_plot.get_yticklabels()] != reversed(targets):\n",
    "    my_plot.set_yticks(list(range(len(targets))), reversed(targets))\n",
    "plt.show()"
   ]
  },
  {
   "cell_type": "code",
   "execution_count": null,
   "id": "506c963f",
   "metadata": {},
   "outputs": [],
   "source": []
  }
 ],
 "metadata": {
  "kernelspec": {
   "display_name": "Python 3 (ipykernel)",
   "language": "python",
   "name": "python3"
  },
  "language_info": {
   "codemirror_mode": {
    "name": "ipython",
    "version": 3
   },
   "file_extension": ".py",
   "mimetype": "text/x-python",
   "name": "python",
   "nbconvert_exporter": "python",
   "pygments_lexer": "ipython3",
   "version": "3.10.12"
  }
 },
 "nbformat": 4,
 "nbformat_minor": 5
}
