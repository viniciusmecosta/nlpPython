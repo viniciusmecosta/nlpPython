{
 "cells": [
  {
   "cell_type": "code",
   "execution_count": null,
   "id": "2e660434",
   "metadata": {},
   "outputs": [],
   "source": [
    "import nltk\n",
    "import nltk.corpus  \n",
    "import nltk.collections\n",
    "import nltk.text \n",
    "import matplotlib.pyplot as plt\n",
    "import nltk\n",
    "import re\n",
    "from nltk.probability import FreqDist\n",
    "from nltk.tokenize import word_tokenize\n",
    "from nltk.draw.dispersion import dispersion_plot\n",
    "nltk.download('machado')"
   ]
  },
  {
   "cell_type": "code",
   "execution_count": null,
   "id": "55b1d75d",
   "metadata": {},
   "outputs": [],
   "source": [
    "# no nosso caso estamos usando id machado\n",
    "nltk_id = 'machado'\n",
    "\n",
    "# eh necessario baixar o corpus\n",
    "nltk.download(nltk_id)\n",
    "\n",
    "# agora o corpus esta acessivel \n",
    "# visualizando as obras disponiveis\n",
    "print(nltk.corpus.machado.readme())\n",
    "# ou\n",
    "print(nltk.corpus.machado.fileids())\n",
    "\n",
    "# apos escolher a obra\n",
    "# salvamos a string em uma variavel\n",
    "dom_casmurro = nltk.corpus.machado.raw('romance/marm05.txt')"
   ]
  },
  {
   "cell_type": "code",
   "execution_count": null,
   "id": "c160aabe",
   "metadata": {},
   "outputs": [],
   "source": [
    "nltk.download('stopwords')\n",
    "\n",
    "# retorna lista de stopwords em portugues\n",
    "stopwords = nltk.corpus.stopwords.words('portuguese')"
   ]
  },
  {
   "cell_type": "code",
   "execution_count": null,
   "id": "6dd4e269",
   "metadata": {},
   "outputs": [],
   "source": [
    "def pre_processamento(texto):\n",
    "  \n",
    "    # seleciona apenas letras e coloca todas em minúsculo \n",
    "    letras_min =  re.findall(r'\\b[A-zÀ-úü]+\\b', texto.lower())\n",
    "\n",
    "    # remove stopwords\n",
    "    stopwords = nltk.corpus.stopwords.words('portuguese')\n",
    "    stop = set(stopwords)\n",
    "    sem_stopwords = [w for w in letras_min if w not in stop]\n",
    "\n",
    "    # juntando os tokens novamente em formato de texto\n",
    "    texto_limpo = \" \".join(sem_stopwords)\n",
    "\n",
    "    return texto_limpo"
   ]
  },
  {
   "cell_type": "code",
   "execution_count": null,
   "id": "dcf4b63f",
   "metadata": {},
   "outputs": [],
   "source": [
    "texto = pre_processamento(dom_casmurro)\n",
    "\n",
    "# tokenizando \n",
    "tokens = word_tokenize(texto)\n",
    "\n",
    "# contagem de frequencia\n",
    "fd = FreqDist(tokens)\n",
    "print(\"20 palavras mais frequentes:\")\n",
    "print(fd.most_common(20))\n",
    "\n",
    "# plot\n",
    "plt.figure(figsize = (13, 8))\n",
    "fd.plot(30, title = \"Frequência de Palavras\")"
   ]
  },
  {
   "cell_type": "code",
   "execution_count": null,
   "id": "c051eecd",
   "metadata": {},
   "outputs": [],
   "source": [
    "dom_casmurro_tok = nltk.Text(word_tokenize(pre_processamento(dom_casmurro)))\n",
    "print(dom_casmurro_tok.concordance('capítulo'))"
   ]
  },
  {
   "cell_type": "code",
   "execution_count": null,
   "id": "4711e65a",
   "metadata": {},
   "outputs": [],
   "source": [
    "dom_casmurro_tok.similar(\"virgília\")"
   ]
  },
  {
   "cell_type": "code",
   "execution_count": null,
   "id": "0b953720",
   "metadata": {},
   "outputs": [],
   "source": [
    "dom_casmurro_tok.collocations()"
   ]
  },
  {
   "cell_type": "code",
   "execution_count": null,
   "id": "a35c2da0",
   "metadata": {},
   "outputs": [],
   "source": [
    "targets=['capítulo', 'disse', 'coisa', 'olhos', 'nada', 'outro', 'vida', 'outra']\n",
    "my_plot = dispersion_plot(dom_casmurro_tok, targets, ignore_case=True)\n",
    "if [label.get_text() for label in my_plot.get_yticklabels()] != reversed(targets):\n",
    "    my_plot.set_yticks(list(range(len(targets))), reversed(targets))\n",
    "plt.show()"
   ]
  },
  {
   "cell_type": "code",
   "execution_count": null,
   "id": "506c963f",
   "metadata": {},
   "outputs": [],
   "source": []
  }
 ],
 "metadata": {
  "kernelspec": {
   "display_name": "Python 3 (ipykernel)",
   "language": "python",
   "name": "python3"
  },
  "language_info": {
   "codemirror_mode": {
    "name": "ipython",
    "version": 3
   },
   "file_extension": ".py",
   "mimetype": "text/x-python",
   "name": "python",
   "nbconvert_exporter": "python",
   "pygments_lexer": "ipython3",
   "version": "3.10.12"
  }
 },
 "nbformat": 4,
 "nbformat_minor": 5
}
